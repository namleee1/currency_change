{
  "cells": [
    {
      "cell_type": "markdown",
      "metadata": {
        "id": "view-in-github",
        "colab_type": "text"
      },
      "source": [
        "<a href=\"https://colab.research.google.com/github/namleee1/currency_change/blob/main/currency_conversion_prediction1.ipynb\" target=\"_parent\"><img src=\"https://colab.research.google.com/assets/colab-badge.svg\" alt=\"Open In Colab\"/></a>"
      ]
    },
    {
      "cell_type": "code",
      "source": [
        "!pip install statsmodels\n",
        "!pip install matplotlib\n",
        "!pip install pandas\n",
        "!pip install numpy"
      ],
      "metadata": {
        "colab": {
          "base_uri": "https://localhost:8080/"
        },
        "collapsed": true,
        "id": "46iTgaVLkHMz",
        "outputId": "7d216c9e-703a-4dda-e69e-1ce8f204cce0"
      },
      "id": "46iTgaVLkHMz",
      "execution_count": 1,
      "outputs": [
        {
          "output_type": "stream",
          "name": "stdout",
          "text": [
            "Requirement already satisfied: statsmodels in /usr/local/lib/python3.11/dist-packages (0.14.4)\n",
            "Requirement already satisfied: numpy<3,>=1.22.3 in /usr/local/lib/python3.11/dist-packages (from statsmodels) (2.0.2)\n",
            "Requirement already satisfied: scipy!=1.9.2,>=1.8 in /usr/local/lib/python3.11/dist-packages (from statsmodels) (1.14.1)\n",
            "Requirement already satisfied: pandas!=2.1.0,>=1.4 in /usr/local/lib/python3.11/dist-packages (from statsmodels) (2.2.2)\n",
            "Requirement already satisfied: patsy>=0.5.6 in /usr/local/lib/python3.11/dist-packages (from statsmodels) (1.0.1)\n",
            "Requirement already satisfied: packaging>=21.3 in /usr/local/lib/python3.11/dist-packages (from statsmodels) (24.2)\n",
            "Requirement already satisfied: python-dateutil>=2.8.2 in /usr/local/lib/python3.11/dist-packages (from pandas!=2.1.0,>=1.4->statsmodels) (2.8.2)\n",
            "Requirement already satisfied: pytz>=2020.1 in /usr/local/lib/python3.11/dist-packages (from pandas!=2.1.0,>=1.4->statsmodels) (2025.2)\n",
            "Requirement already satisfied: tzdata>=2022.7 in /usr/local/lib/python3.11/dist-packages (from pandas!=2.1.0,>=1.4->statsmodels) (2025.2)\n",
            "Requirement already satisfied: six>=1.5 in /usr/local/lib/python3.11/dist-packages (from python-dateutil>=2.8.2->pandas!=2.1.0,>=1.4->statsmodels) (1.17.0)\n",
            "Requirement already satisfied: matplotlib in /usr/local/lib/python3.11/dist-packages (3.10.0)\n",
            "Requirement already satisfied: contourpy>=1.0.1 in /usr/local/lib/python3.11/dist-packages (from matplotlib) (1.3.1)\n",
            "Requirement already satisfied: cycler>=0.10 in /usr/local/lib/python3.11/dist-packages (from matplotlib) (0.12.1)\n",
            "Requirement already satisfied: fonttools>=4.22.0 in /usr/local/lib/python3.11/dist-packages (from matplotlib) (4.56.0)\n",
            "Requirement already satisfied: kiwisolver>=1.3.1 in /usr/local/lib/python3.11/dist-packages (from matplotlib) (1.4.8)\n",
            "Requirement already satisfied: numpy>=1.23 in /usr/local/lib/python3.11/dist-packages (from matplotlib) (2.0.2)\n",
            "Requirement already satisfied: packaging>=20.0 in /usr/local/lib/python3.11/dist-packages (from matplotlib) (24.2)\n",
            "Requirement already satisfied: pillow>=8 in /usr/local/lib/python3.11/dist-packages (from matplotlib) (11.1.0)\n",
            "Requirement already satisfied: pyparsing>=2.3.1 in /usr/local/lib/python3.11/dist-packages (from matplotlib) (3.2.3)\n",
            "Requirement already satisfied: python-dateutil>=2.7 in /usr/local/lib/python3.11/dist-packages (from matplotlib) (2.8.2)\n",
            "Requirement already satisfied: six>=1.5 in /usr/local/lib/python3.11/dist-packages (from python-dateutil>=2.7->matplotlib) (1.17.0)\n",
            "Requirement already satisfied: pandas in /usr/local/lib/python3.11/dist-packages (2.2.2)\n",
            "Requirement already satisfied: numpy>=1.23.2 in /usr/local/lib/python3.11/dist-packages (from pandas) (2.0.2)\n",
            "Requirement already satisfied: python-dateutil>=2.8.2 in /usr/local/lib/python3.11/dist-packages (from pandas) (2.8.2)\n",
            "Requirement already satisfied: pytz>=2020.1 in /usr/local/lib/python3.11/dist-packages (from pandas) (2025.2)\n",
            "Requirement already satisfied: tzdata>=2022.7 in /usr/local/lib/python3.11/dist-packages (from pandas) (2025.2)\n",
            "Requirement already satisfied: six>=1.5 in /usr/local/lib/python3.11/dist-packages (from python-dateutil>=2.8.2->pandas) (1.17.0)\n",
            "Requirement already satisfied: numpy in /usr/local/lib/python3.11/dist-packages (2.0.2)\n"
          ]
        }
      ]
    },
    {
      "cell_type": "code",
      "source": [
        "from google.colab import files\n",
        "uploaded = files.upload()"
      ],
      "metadata": {
        "colab": {
          "base_uri": "https://localhost:8080/",
          "height": 73
        },
        "id": "JSiTPMTXmBMi",
        "outputId": "eff03c23-5809-4df9-c621-c3ae25322c20"
      },
      "id": "JSiTPMTXmBMi",
      "execution_count": 16,
      "outputs": [
        {
          "output_type": "display_data",
          "data": {
            "text/plain": [
              "<IPython.core.display.HTML object>"
            ],
            "text/html": [
              "\n",
              "     <input type=\"file\" id=\"files-73c050c4-538f-4c6b-8eb3-d341474c207b\" name=\"files[]\" multiple disabled\n",
              "        style=\"border:none\" />\n",
              "     <output id=\"result-73c050c4-538f-4c6b-8eb3-d341474c207b\">\n",
              "      Upload widget is only available when the cell has been executed in the\n",
              "      current browser session. Please rerun this cell to enable.\n",
              "      </output>\n",
              "      <script>// Copyright 2017 Google LLC\n",
              "//\n",
              "// Licensed under the Apache License, Version 2.0 (the \"License\");\n",
              "// you may not use this file except in compliance with the License.\n",
              "// You may obtain a copy of the License at\n",
              "//\n",
              "//      http://www.apache.org/licenses/LICENSE-2.0\n",
              "//\n",
              "// Unless required by applicable law or agreed to in writing, software\n",
              "// distributed under the License is distributed on an \"AS IS\" BASIS,\n",
              "// WITHOUT WARRANTIES OR CONDITIONS OF ANY KIND, either express or implied.\n",
              "// See the License for the specific language governing permissions and\n",
              "// limitations under the License.\n",
              "\n",
              "/**\n",
              " * @fileoverview Helpers for google.colab Python module.\n",
              " */\n",
              "(function(scope) {\n",
              "function span(text, styleAttributes = {}) {\n",
              "  const element = document.createElement('span');\n",
              "  element.textContent = text;\n",
              "  for (const key of Object.keys(styleAttributes)) {\n",
              "    element.style[key] = styleAttributes[key];\n",
              "  }\n",
              "  return element;\n",
              "}\n",
              "\n",
              "// Max number of bytes which will be uploaded at a time.\n",
              "const MAX_PAYLOAD_SIZE = 100 * 1024;\n",
              "\n",
              "function _uploadFiles(inputId, outputId) {\n",
              "  const steps = uploadFilesStep(inputId, outputId);\n",
              "  const outputElement = document.getElementById(outputId);\n",
              "  // Cache steps on the outputElement to make it available for the next call\n",
              "  // to uploadFilesContinue from Python.\n",
              "  outputElement.steps = steps;\n",
              "\n",
              "  return _uploadFilesContinue(outputId);\n",
              "}\n",
              "\n",
              "// This is roughly an async generator (not supported in the browser yet),\n",
              "// where there are multiple asynchronous steps and the Python side is going\n",
              "// to poll for completion of each step.\n",
              "// This uses a Promise to block the python side on completion of each step,\n",
              "// then passes the result of the previous step as the input to the next step.\n",
              "function _uploadFilesContinue(outputId) {\n",
              "  const outputElement = document.getElementById(outputId);\n",
              "  const steps = outputElement.steps;\n",
              "\n",
              "  const next = steps.next(outputElement.lastPromiseValue);\n",
              "  return Promise.resolve(next.value.promise).then((value) => {\n",
              "    // Cache the last promise value to make it available to the next\n",
              "    // step of the generator.\n",
              "    outputElement.lastPromiseValue = value;\n",
              "    return next.value.response;\n",
              "  });\n",
              "}\n",
              "\n",
              "/**\n",
              " * Generator function which is called between each async step of the upload\n",
              " * process.\n",
              " * @param {string} inputId Element ID of the input file picker element.\n",
              " * @param {string} outputId Element ID of the output display.\n",
              " * @return {!Iterable<!Object>} Iterable of next steps.\n",
              " */\n",
              "function* uploadFilesStep(inputId, outputId) {\n",
              "  const inputElement = document.getElementById(inputId);\n",
              "  inputElement.disabled = false;\n",
              "\n",
              "  const outputElement = document.getElementById(outputId);\n",
              "  outputElement.innerHTML = '';\n",
              "\n",
              "  const pickedPromise = new Promise((resolve) => {\n",
              "    inputElement.addEventListener('change', (e) => {\n",
              "      resolve(e.target.files);\n",
              "    });\n",
              "  });\n",
              "\n",
              "  const cancel = document.createElement('button');\n",
              "  inputElement.parentElement.appendChild(cancel);\n",
              "  cancel.textContent = 'Cancel upload';\n",
              "  const cancelPromise = new Promise((resolve) => {\n",
              "    cancel.onclick = () => {\n",
              "      resolve(null);\n",
              "    };\n",
              "  });\n",
              "\n",
              "  // Wait for the user to pick the files.\n",
              "  const files = yield {\n",
              "    promise: Promise.race([pickedPromise, cancelPromise]),\n",
              "    response: {\n",
              "      action: 'starting',\n",
              "    }\n",
              "  };\n",
              "\n",
              "  cancel.remove();\n",
              "\n",
              "  // Disable the input element since further picks are not allowed.\n",
              "  inputElement.disabled = true;\n",
              "\n",
              "  if (!files) {\n",
              "    return {\n",
              "      response: {\n",
              "        action: 'complete',\n",
              "      }\n",
              "    };\n",
              "  }\n",
              "\n",
              "  for (const file of files) {\n",
              "    const li = document.createElement('li');\n",
              "    li.append(span(file.name, {fontWeight: 'bold'}));\n",
              "    li.append(span(\n",
              "        `(${file.type || 'n/a'}) - ${file.size} bytes, ` +\n",
              "        `last modified: ${\n",
              "            file.lastModifiedDate ? file.lastModifiedDate.toLocaleDateString() :\n",
              "                                    'n/a'} - `));\n",
              "    const percent = span('0% done');\n",
              "    li.appendChild(percent);\n",
              "\n",
              "    outputElement.appendChild(li);\n",
              "\n",
              "    const fileDataPromise = new Promise((resolve) => {\n",
              "      const reader = new FileReader();\n",
              "      reader.onload = (e) => {\n",
              "        resolve(e.target.result);\n",
              "      };\n",
              "      reader.readAsArrayBuffer(file);\n",
              "    });\n",
              "    // Wait for the data to be ready.\n",
              "    let fileData = yield {\n",
              "      promise: fileDataPromise,\n",
              "      response: {\n",
              "        action: 'continue',\n",
              "      }\n",
              "    };\n",
              "\n",
              "    // Use a chunked sending to avoid message size limits. See b/62115660.\n",
              "    let position = 0;\n",
              "    do {\n",
              "      const length = Math.min(fileData.byteLength - position, MAX_PAYLOAD_SIZE);\n",
              "      const chunk = new Uint8Array(fileData, position, length);\n",
              "      position += length;\n",
              "\n",
              "      const base64 = btoa(String.fromCharCode.apply(null, chunk));\n",
              "      yield {\n",
              "        response: {\n",
              "          action: 'append',\n",
              "          file: file.name,\n",
              "          data: base64,\n",
              "        },\n",
              "      };\n",
              "\n",
              "      let percentDone = fileData.byteLength === 0 ?\n",
              "          100 :\n",
              "          Math.round((position / fileData.byteLength) * 100);\n",
              "      percent.textContent = `${percentDone}% done`;\n",
              "\n",
              "    } while (position < fileData.byteLength);\n",
              "  }\n",
              "\n",
              "  // All done.\n",
              "  yield {\n",
              "    response: {\n",
              "      action: 'complete',\n",
              "    }\n",
              "  };\n",
              "}\n",
              "\n",
              "scope.google = scope.google || {};\n",
              "scope.google.colab = scope.google.colab || {};\n",
              "scope.google.colab._files = {\n",
              "  _uploadFiles,\n",
              "  _uploadFilesContinue,\n",
              "};\n",
              "})(self);\n",
              "</script> "
            ]
          },
          "metadata": {}
        },
        {
          "output_type": "stream",
          "name": "stdout",
          "text": [
            "Saving Data system POC_11Nov2024(mod).xlsx to Data system POC_11Nov2024(mod) (2).xlsx\n"
          ]
        }
      ]
    },
    {
      "cell_type": "code",
      "execution_count": 23,
      "id": "808be195-0f15-4533-8317-b8965934af44",
      "metadata": {
        "id": "808be195-0f15-4533-8317-b8965934af44"
      },
      "outputs": [],
      "source": [
        "import numpy as np\n",
        "import pandas as pd\n",
        "from matplotlib import pyplot as plt\n",
        "import seaborn as sn\n",
        "import requests\n",
        "from bs4 import BeautifulSoup\n",
        "import json\n",
        "import os\n",
        "#Bieu dien cac sheet trong file excel\n",
        "file_path = \"/content/Data system POC_11Nov2024(mod) (2).xlsx\"\n",
        "df = pd.read_excel(file_path, sheet_name=\"Data- refinitiv\")"
      ]
    },
    {
      "cell_type": "code",
      "execution_count": 24,
      "id": "f8783def-0228-4054-b03a-3778952c4496",
      "metadata": {
        "colab": {
          "base_uri": "https://localhost:8080/",
          "height": 272
        },
        "id": "f8783def-0228-4054-b03a-3778952c4496",
        "outputId": "5ef6fb74-62d4-498c-89ce-1a8cba2981c1"
      },
      "outputs": [
        {
          "output_type": "execute_result",
          "data": {
            "text/plain": [
              "Date                 0\n",
              "FEDRATE              0\n",
              "DXY                  0\n",
              "VND                  0\n",
              "OMOrate           4895\n",
              "SBVcentralrate    4359\n",
              "dtype: int64"
            ],
            "text/html": [
              "<div>\n",
              "<style scoped>\n",
              "    .dataframe tbody tr th:only-of-type {\n",
              "        vertical-align: middle;\n",
              "    }\n",
              "\n",
              "    .dataframe tbody tr th {\n",
              "        vertical-align: top;\n",
              "    }\n",
              "\n",
              "    .dataframe thead th {\n",
              "        text-align: right;\n",
              "    }\n",
              "</style>\n",
              "<table border=\"1\" class=\"dataframe\">\n",
              "  <thead>\n",
              "    <tr style=\"text-align: right;\">\n",
              "      <th></th>\n",
              "      <th>0</th>\n",
              "    </tr>\n",
              "  </thead>\n",
              "  <tbody>\n",
              "    <tr>\n",
              "      <th>Date</th>\n",
              "      <td>0</td>\n",
              "    </tr>\n",
              "    <tr>\n",
              "      <th>FEDRATE</th>\n",
              "      <td>0</td>\n",
              "    </tr>\n",
              "    <tr>\n",
              "      <th>DXY</th>\n",
              "      <td>0</td>\n",
              "    </tr>\n",
              "    <tr>\n",
              "      <th>VND</th>\n",
              "      <td>0</td>\n",
              "    </tr>\n",
              "    <tr>\n",
              "      <th>OMOrate</th>\n",
              "      <td>4895</td>\n",
              "    </tr>\n",
              "    <tr>\n",
              "      <th>SBVcentralrate</th>\n",
              "      <td>4359</td>\n",
              "    </tr>\n",
              "  </tbody>\n",
              "</table>\n",
              "</div><br><label><b>dtype:</b> int64</label>"
            ]
          },
          "metadata": {},
          "execution_count": 24
        }
      ],
      "source": [
        "df.isna().sum()"
      ]
    },
    {
      "cell_type": "code",
      "execution_count": 25,
      "id": "aa21de6c-cfe1-4682-9cbd-318f8067f175",
      "metadata": {
        "colab": {
          "base_uri": "https://localhost:8080/",
          "height": 458
        },
        "id": "aa21de6c-cfe1-4682-9cbd-318f8067f175",
        "outputId": "8662f55f-df00-4516-8236-6de20fbfc1df"
      },
      "outputs": [
        {
          "output_type": "execute_result",
          "data": {
            "text/plain": [
              "0       False\n",
              "1       False\n",
              "2       False\n",
              "3       False\n",
              "4       False\n",
              "        ...  \n",
              "5080    False\n",
              "5081    False\n",
              "5082    False\n",
              "5083    False\n",
              "5084    False\n",
              "Length: 5085, dtype: bool"
            ],
            "text/html": [
              "<div>\n",
              "<style scoped>\n",
              "    .dataframe tbody tr th:only-of-type {\n",
              "        vertical-align: middle;\n",
              "    }\n",
              "\n",
              "    .dataframe tbody tr th {\n",
              "        vertical-align: top;\n",
              "    }\n",
              "\n",
              "    .dataframe thead th {\n",
              "        text-align: right;\n",
              "    }\n",
              "</style>\n",
              "<table border=\"1\" class=\"dataframe\">\n",
              "  <thead>\n",
              "    <tr style=\"text-align: right;\">\n",
              "      <th></th>\n",
              "      <th>0</th>\n",
              "    </tr>\n",
              "  </thead>\n",
              "  <tbody>\n",
              "    <tr>\n",
              "      <th>0</th>\n",
              "      <td>False</td>\n",
              "    </tr>\n",
              "    <tr>\n",
              "      <th>1</th>\n",
              "      <td>False</td>\n",
              "    </tr>\n",
              "    <tr>\n",
              "      <th>2</th>\n",
              "      <td>False</td>\n",
              "    </tr>\n",
              "    <tr>\n",
              "      <th>3</th>\n",
              "      <td>False</td>\n",
              "    </tr>\n",
              "    <tr>\n",
              "      <th>4</th>\n",
              "      <td>False</td>\n",
              "    </tr>\n",
              "    <tr>\n",
              "      <th>...</th>\n",
              "      <td>...</td>\n",
              "    </tr>\n",
              "    <tr>\n",
              "      <th>5080</th>\n",
              "      <td>False</td>\n",
              "    </tr>\n",
              "    <tr>\n",
              "      <th>5081</th>\n",
              "      <td>False</td>\n",
              "    </tr>\n",
              "    <tr>\n",
              "      <th>5082</th>\n",
              "      <td>False</td>\n",
              "    </tr>\n",
              "    <tr>\n",
              "      <th>5083</th>\n",
              "      <td>False</td>\n",
              "    </tr>\n",
              "    <tr>\n",
              "      <th>5084</th>\n",
              "      <td>False</td>\n",
              "    </tr>\n",
              "  </tbody>\n",
              "</table>\n",
              "<p>5085 rows × 1 columns</p>\n",
              "</div><br><label><b>dtype:</b> bool</label>"
            ]
          },
          "metadata": {},
          "execution_count": 25
        }
      ],
      "source": [
        "df.duplicated()"
      ]
    },
    {
      "cell_type": "code",
      "execution_count": 26,
      "id": "05bc6f81-0289-4cac-93cf-36624cf4a050",
      "metadata": {
        "colab": {
          "base_uri": "https://localhost:8080/"
        },
        "id": "05bc6f81-0289-4cac-93cf-36624cf4a050",
        "outputId": "2170a643-bf5e-4cb3-8b07-0f76b11e1e7a"
      },
      "outputs": [
        {
          "output_type": "stream",
          "name": "stderr",
          "text": [
            "<ipython-input-26-c3ea836e935e>:1: FutureWarning: DataFrame.fillna with 'method' is deprecated and will raise in a future version. Use obj.ffill() or obj.bfill() instead.\n",
            "  df=df.fillna(method='ffill')\n"
          ]
        }
      ],
      "source": [
        "df=df.fillna(method='ffill')"
      ]
    },
    {
      "cell_type": "code",
      "execution_count": 27,
      "id": "62e0b240-6f96-44da-84a8-dddc6e09f06d",
      "metadata": {
        "colab": {
          "base_uri": "https://localhost:8080/",
          "height": 363
        },
        "id": "62e0b240-6f96-44da-84a8-dddc6e09f06d",
        "outputId": "07725461-0564-41be-cfe5-96e7ee832c6f"
      },
      "outputs": [
        {
          "output_type": "execute_result",
          "data": {
            "text/plain": [
              "           Date  FEDRATE    DXY     VND  OMOrate  SBVcentralrate\n",
              "5075 2004-10-14     1.75  87.55  15.755      4.0         23152.0\n",
              "5076 2004-10-13     1.75  87.88  15.745      4.0         23152.0\n",
              "5077 2004-10-12     1.75  88.02  15.762      4.0         23152.0\n",
              "5078 2004-10-11     1.75  87.54  15.756      4.0         23152.0\n",
              "5079 2004-10-08     1.75  87.45  15.755      4.0         23152.0\n",
              "5080 2004-10-07     1.75  88.34  15.756      4.0         23152.0\n",
              "5081 2004-10-06     1.75  88.48  15.756      4.0         23152.0\n",
              "5082 2004-10-05     1.75  88.17  15.755      4.0         23152.0\n",
              "5083 2004-10-04     1.75  88.38  15.755      4.0         23152.0\n",
              "5084 2004-10-01     1.75  87.63  15.745      4.0         23152.0"
            ],
            "text/html": [
              "\n",
              "  <div id=\"df-10771463-eb1d-4de9-87af-9cf51c065e61\" class=\"colab-df-container\">\n",
              "    <div>\n",
              "<style scoped>\n",
              "    .dataframe tbody tr th:only-of-type {\n",
              "        vertical-align: middle;\n",
              "    }\n",
              "\n",
              "    .dataframe tbody tr th {\n",
              "        vertical-align: top;\n",
              "    }\n",
              "\n",
              "    .dataframe thead th {\n",
              "        text-align: right;\n",
              "    }\n",
              "</style>\n",
              "<table border=\"1\" class=\"dataframe\">\n",
              "  <thead>\n",
              "    <tr style=\"text-align: right;\">\n",
              "      <th></th>\n",
              "      <th>Date</th>\n",
              "      <th>FEDRATE</th>\n",
              "      <th>DXY</th>\n",
              "      <th>VND</th>\n",
              "      <th>OMOrate</th>\n",
              "      <th>SBVcentralrate</th>\n",
              "    </tr>\n",
              "  </thead>\n",
              "  <tbody>\n",
              "    <tr>\n",
              "      <th>5075</th>\n",
              "      <td>2004-10-14</td>\n",
              "      <td>1.75</td>\n",
              "      <td>87.55</td>\n",
              "      <td>15.755</td>\n",
              "      <td>4.0</td>\n",
              "      <td>23152.0</td>\n",
              "    </tr>\n",
              "    <tr>\n",
              "      <th>5076</th>\n",
              "      <td>2004-10-13</td>\n",
              "      <td>1.75</td>\n",
              "      <td>87.88</td>\n",
              "      <td>15.745</td>\n",
              "      <td>4.0</td>\n",
              "      <td>23152.0</td>\n",
              "    </tr>\n",
              "    <tr>\n",
              "      <th>5077</th>\n",
              "      <td>2004-10-12</td>\n",
              "      <td>1.75</td>\n",
              "      <td>88.02</td>\n",
              "      <td>15.762</td>\n",
              "      <td>4.0</td>\n",
              "      <td>23152.0</td>\n",
              "    </tr>\n",
              "    <tr>\n",
              "      <th>5078</th>\n",
              "      <td>2004-10-11</td>\n",
              "      <td>1.75</td>\n",
              "      <td>87.54</td>\n",
              "      <td>15.756</td>\n",
              "      <td>4.0</td>\n",
              "      <td>23152.0</td>\n",
              "    </tr>\n",
              "    <tr>\n",
              "      <th>5079</th>\n",
              "      <td>2004-10-08</td>\n",
              "      <td>1.75</td>\n",
              "      <td>87.45</td>\n",
              "      <td>15.755</td>\n",
              "      <td>4.0</td>\n",
              "      <td>23152.0</td>\n",
              "    </tr>\n",
              "    <tr>\n",
              "      <th>5080</th>\n",
              "      <td>2004-10-07</td>\n",
              "      <td>1.75</td>\n",
              "      <td>88.34</td>\n",
              "      <td>15.756</td>\n",
              "      <td>4.0</td>\n",
              "      <td>23152.0</td>\n",
              "    </tr>\n",
              "    <tr>\n",
              "      <th>5081</th>\n",
              "      <td>2004-10-06</td>\n",
              "      <td>1.75</td>\n",
              "      <td>88.48</td>\n",
              "      <td>15.756</td>\n",
              "      <td>4.0</td>\n",
              "      <td>23152.0</td>\n",
              "    </tr>\n",
              "    <tr>\n",
              "      <th>5082</th>\n",
              "      <td>2004-10-05</td>\n",
              "      <td>1.75</td>\n",
              "      <td>88.17</td>\n",
              "      <td>15.755</td>\n",
              "      <td>4.0</td>\n",
              "      <td>23152.0</td>\n",
              "    </tr>\n",
              "    <tr>\n",
              "      <th>5083</th>\n",
              "      <td>2004-10-04</td>\n",
              "      <td>1.75</td>\n",
              "      <td>88.38</td>\n",
              "      <td>15.755</td>\n",
              "      <td>4.0</td>\n",
              "      <td>23152.0</td>\n",
              "    </tr>\n",
              "    <tr>\n",
              "      <th>5084</th>\n",
              "      <td>2004-10-01</td>\n",
              "      <td>1.75</td>\n",
              "      <td>87.63</td>\n",
              "      <td>15.745</td>\n",
              "      <td>4.0</td>\n",
              "      <td>23152.0</td>\n",
              "    </tr>\n",
              "  </tbody>\n",
              "</table>\n",
              "</div>\n",
              "    <div class=\"colab-df-buttons\">\n",
              "\n",
              "  <div class=\"colab-df-container\">\n",
              "    <button class=\"colab-df-convert\" onclick=\"convertToInteractive('df-10771463-eb1d-4de9-87af-9cf51c065e61')\"\n",
              "            title=\"Convert this dataframe to an interactive table.\"\n",
              "            style=\"display:none;\">\n",
              "\n",
              "  <svg xmlns=\"http://www.w3.org/2000/svg\" height=\"24px\" viewBox=\"0 -960 960 960\">\n",
              "    <path d=\"M120-120v-720h720v720H120Zm60-500h600v-160H180v160Zm220 220h160v-160H400v160Zm0 220h160v-160H400v160ZM180-400h160v-160H180v160Zm440 0h160v-160H620v160ZM180-180h160v-160H180v160Zm440 0h160v-160H620v160Z\"/>\n",
              "  </svg>\n",
              "    </button>\n",
              "\n",
              "  <style>\n",
              "    .colab-df-container {\n",
              "      display:flex;\n",
              "      gap: 12px;\n",
              "    }\n",
              "\n",
              "    .colab-df-convert {\n",
              "      background-color: #E8F0FE;\n",
              "      border: none;\n",
              "      border-radius: 50%;\n",
              "      cursor: pointer;\n",
              "      display: none;\n",
              "      fill: #1967D2;\n",
              "      height: 32px;\n",
              "      padding: 0 0 0 0;\n",
              "      width: 32px;\n",
              "    }\n",
              "\n",
              "    .colab-df-convert:hover {\n",
              "      background-color: #E2EBFA;\n",
              "      box-shadow: 0px 1px 2px rgba(60, 64, 67, 0.3), 0px 1px 3px 1px rgba(60, 64, 67, 0.15);\n",
              "      fill: #174EA6;\n",
              "    }\n",
              "\n",
              "    .colab-df-buttons div {\n",
              "      margin-bottom: 4px;\n",
              "    }\n",
              "\n",
              "    [theme=dark] .colab-df-convert {\n",
              "      background-color: #3B4455;\n",
              "      fill: #D2E3FC;\n",
              "    }\n",
              "\n",
              "    [theme=dark] .colab-df-convert:hover {\n",
              "      background-color: #434B5C;\n",
              "      box-shadow: 0px 1px 3px 1px rgba(0, 0, 0, 0.15);\n",
              "      filter: drop-shadow(0px 1px 2px rgba(0, 0, 0, 0.3));\n",
              "      fill: #FFFFFF;\n",
              "    }\n",
              "  </style>\n",
              "\n",
              "    <script>\n",
              "      const buttonEl =\n",
              "        document.querySelector('#df-10771463-eb1d-4de9-87af-9cf51c065e61 button.colab-df-convert');\n",
              "      buttonEl.style.display =\n",
              "        google.colab.kernel.accessAllowed ? 'block' : 'none';\n",
              "\n",
              "      async function convertToInteractive(key) {\n",
              "        const element = document.querySelector('#df-10771463-eb1d-4de9-87af-9cf51c065e61');\n",
              "        const dataTable =\n",
              "          await google.colab.kernel.invokeFunction('convertToInteractive',\n",
              "                                                    [key], {});\n",
              "        if (!dataTable) return;\n",
              "\n",
              "        const docLinkHtml = 'Like what you see? Visit the ' +\n",
              "          '<a target=\"_blank\" href=https://colab.research.google.com/notebooks/data_table.ipynb>data table notebook</a>'\n",
              "          + ' to learn more about interactive tables.';\n",
              "        element.innerHTML = '';\n",
              "        dataTable['output_type'] = 'display_data';\n",
              "        await google.colab.output.renderOutput(dataTable, element);\n",
              "        const docLink = document.createElement('div');\n",
              "        docLink.innerHTML = docLinkHtml;\n",
              "        element.appendChild(docLink);\n",
              "      }\n",
              "    </script>\n",
              "  </div>\n",
              "\n",
              "\n",
              "<div id=\"df-5b5b8db2-43e8-49d8-b7a1-db459857c061\">\n",
              "  <button class=\"colab-df-quickchart\" onclick=\"quickchart('df-5b5b8db2-43e8-49d8-b7a1-db459857c061')\"\n",
              "            title=\"Suggest charts\"\n",
              "            style=\"display:none;\">\n",
              "\n",
              "<svg xmlns=\"http://www.w3.org/2000/svg\" height=\"24px\"viewBox=\"0 0 24 24\"\n",
              "     width=\"24px\">\n",
              "    <g>\n",
              "        <path d=\"M19 3H5c-1.1 0-2 .9-2 2v14c0 1.1.9 2 2 2h14c1.1 0 2-.9 2-2V5c0-1.1-.9-2-2-2zM9 17H7v-7h2v7zm4 0h-2V7h2v10zm4 0h-2v-4h2v4z\"/>\n",
              "    </g>\n",
              "</svg>\n",
              "  </button>\n",
              "\n",
              "<style>\n",
              "  .colab-df-quickchart {\n",
              "      --bg-color: #E8F0FE;\n",
              "      --fill-color: #1967D2;\n",
              "      --hover-bg-color: #E2EBFA;\n",
              "      --hover-fill-color: #174EA6;\n",
              "      --disabled-fill-color: #AAA;\n",
              "      --disabled-bg-color: #DDD;\n",
              "  }\n",
              "\n",
              "  [theme=dark] .colab-df-quickchart {\n",
              "      --bg-color: #3B4455;\n",
              "      --fill-color: #D2E3FC;\n",
              "      --hover-bg-color: #434B5C;\n",
              "      --hover-fill-color: #FFFFFF;\n",
              "      --disabled-bg-color: #3B4455;\n",
              "      --disabled-fill-color: #666;\n",
              "  }\n",
              "\n",
              "  .colab-df-quickchart {\n",
              "    background-color: var(--bg-color);\n",
              "    border: none;\n",
              "    border-radius: 50%;\n",
              "    cursor: pointer;\n",
              "    display: none;\n",
              "    fill: var(--fill-color);\n",
              "    height: 32px;\n",
              "    padding: 0;\n",
              "    width: 32px;\n",
              "  }\n",
              "\n",
              "  .colab-df-quickchart:hover {\n",
              "    background-color: var(--hover-bg-color);\n",
              "    box-shadow: 0 1px 2px rgba(60, 64, 67, 0.3), 0 1px 3px 1px rgba(60, 64, 67, 0.15);\n",
              "    fill: var(--button-hover-fill-color);\n",
              "  }\n",
              "\n",
              "  .colab-df-quickchart-complete:disabled,\n",
              "  .colab-df-quickchart-complete:disabled:hover {\n",
              "    background-color: var(--disabled-bg-color);\n",
              "    fill: var(--disabled-fill-color);\n",
              "    box-shadow: none;\n",
              "  }\n",
              "\n",
              "  .colab-df-spinner {\n",
              "    border: 2px solid var(--fill-color);\n",
              "    border-color: transparent;\n",
              "    border-bottom-color: var(--fill-color);\n",
              "    animation:\n",
              "      spin 1s steps(1) infinite;\n",
              "  }\n",
              "\n",
              "  @keyframes spin {\n",
              "    0% {\n",
              "      border-color: transparent;\n",
              "      border-bottom-color: var(--fill-color);\n",
              "      border-left-color: var(--fill-color);\n",
              "    }\n",
              "    20% {\n",
              "      border-color: transparent;\n",
              "      border-left-color: var(--fill-color);\n",
              "      border-top-color: var(--fill-color);\n",
              "    }\n",
              "    30% {\n",
              "      border-color: transparent;\n",
              "      border-left-color: var(--fill-color);\n",
              "      border-top-color: var(--fill-color);\n",
              "      border-right-color: var(--fill-color);\n",
              "    }\n",
              "    40% {\n",
              "      border-color: transparent;\n",
              "      border-right-color: var(--fill-color);\n",
              "      border-top-color: var(--fill-color);\n",
              "    }\n",
              "    60% {\n",
              "      border-color: transparent;\n",
              "      border-right-color: var(--fill-color);\n",
              "    }\n",
              "    80% {\n",
              "      border-color: transparent;\n",
              "      border-right-color: var(--fill-color);\n",
              "      border-bottom-color: var(--fill-color);\n",
              "    }\n",
              "    90% {\n",
              "      border-color: transparent;\n",
              "      border-bottom-color: var(--fill-color);\n",
              "    }\n",
              "  }\n",
              "</style>\n",
              "\n",
              "  <script>\n",
              "    async function quickchart(key) {\n",
              "      const quickchartButtonEl =\n",
              "        document.querySelector('#' + key + ' button');\n",
              "      quickchartButtonEl.disabled = true;  // To prevent multiple clicks.\n",
              "      quickchartButtonEl.classList.add('colab-df-spinner');\n",
              "      try {\n",
              "        const charts = await google.colab.kernel.invokeFunction(\n",
              "            'suggestCharts', [key], {});\n",
              "      } catch (error) {\n",
              "        console.error('Error during call to suggestCharts:', error);\n",
              "      }\n",
              "      quickchartButtonEl.classList.remove('colab-df-spinner');\n",
              "      quickchartButtonEl.classList.add('colab-df-quickchart-complete');\n",
              "    }\n",
              "    (() => {\n",
              "      let quickchartButtonEl =\n",
              "        document.querySelector('#df-5b5b8db2-43e8-49d8-b7a1-db459857c061 button');\n",
              "      quickchartButtonEl.style.display =\n",
              "        google.colab.kernel.accessAllowed ? 'block' : 'none';\n",
              "    })();\n",
              "  </script>\n",
              "</div>\n",
              "\n",
              "    </div>\n",
              "  </div>\n"
            ],
            "application/vnd.google.colaboratory.intrinsic+json": {
              "type": "dataframe",
              "summary": "{\n  \"name\": \"df\",\n  \"rows\": 10,\n  \"fields\": [\n    {\n      \"column\": \"Date\",\n      \"properties\": {\n        \"dtype\": \"date\",\n        \"min\": \"2004-10-01 00:00:00\",\n        \"max\": \"2004-10-14 00:00:00\",\n        \"num_unique_values\": 10,\n        \"samples\": [\n          \"2004-10-04 00:00:00\",\n          \"2004-10-13 00:00:00\",\n          \"2004-10-07 00:00:00\"\n        ],\n        \"semantic_type\": \"\",\n        \"description\": \"\"\n      }\n    },\n    {\n      \"column\": \"FEDRATE\",\n      \"properties\": {\n        \"dtype\": \"number\",\n        \"std\": 0.0,\n        \"min\": 1.75,\n        \"max\": 1.75,\n        \"num_unique_values\": 1,\n        \"samples\": [\n          1.75\n        ],\n        \"semantic_type\": \"\",\n        \"description\": \"\"\n      }\n    },\n    {\n      \"column\": \"DXY\",\n      \"properties\": {\n        \"dtype\": \"number\",\n        \"std\": 0.3881923921631302,\n        \"min\": 87.45,\n        \"max\": 88.48,\n        \"num_unique_values\": 10,\n        \"samples\": [\n          88.38\n        ],\n        \"semantic_type\": \"\",\n        \"description\": \"\"\n      }\n    },\n    {\n      \"column\": \"VND\",\n      \"properties\": {\n        \"dtype\": \"number\",\n        \"std\": 0.005185449728701824,\n        \"min\": 15.745,\n        \"max\": 15.762,\n        \"num_unique_values\": 4,\n        \"samples\": [\n          15.745\n        ],\n        \"semantic_type\": \"\",\n        \"description\": \"\"\n      }\n    },\n    {\n      \"column\": \"OMOrate\",\n      \"properties\": {\n        \"dtype\": \"number\",\n        \"std\": 0.0,\n        \"min\": 4.0,\n        \"max\": 4.0,\n        \"num_unique_values\": 1,\n        \"samples\": [\n          4.0\n        ],\n        \"semantic_type\": \"\",\n        \"description\": \"\"\n      }\n    },\n    {\n      \"column\": \"SBVcentralrate\",\n      \"properties\": {\n        \"dtype\": \"number\",\n        \"std\": 0.0,\n        \"min\": 23152.0,\n        \"max\": 23152.0,\n        \"num_unique_values\": 1,\n        \"samples\": [\n          23152.0\n        ],\n        \"semantic_type\": \"\",\n        \"description\": \"\"\n      }\n    }\n  ]\n}"
            }
          },
          "metadata": {},
          "execution_count": 27
        }
      ],
      "source": [
        "df.tail(10)"
      ]
    },
    {
      "cell_type": "code",
      "execution_count": 29,
      "id": "4f16c1ad-c261-43ee-a99b-e7c094b0c9dc",
      "metadata": {
        "colab": {
          "base_uri": "https://localhost:8080/",
          "height": 472
        },
        "id": "4f16c1ad-c261-43ee-a99b-e7c094b0c9dc",
        "outputId": "2597302b-5a0e-4789-f062-a02665fe5a70"
      },
      "outputs": [
        {
          "output_type": "display_data",
          "data": {
            "text/plain": [
              "<Figure size 640x480 with 1 Axes>"
            ],
            "image/png": "[encoded data removed]"
          },
          "metadata": {}
        }
      ],
      "source": [
        "import matplotlib.pyplot as plt\n",
        "plt.plot(df['Date'],df['VND'])\n",
        "plt.xlabel('Date')\n",
        "plt.ylabel('VND= (BID)')\n",
        "plt.title('changing of currency conversion after years')\n",
        "plt.show()"
      ]
    },
    {
      "cell_type": "code",
      "execution_count": 30,
      "id": "49a19953-d244-46e1-813f-c7215746339d",
      "metadata": {
        "colab": {
          "base_uri": "https://localhost:8080/",
          "height": 472
        },
        "id": "49a19953-d244-46e1-813f-c7215746339d",
        "outputId": "02fa2e09-fedd-45c1-db48-41df1e0a779b"
      },
      "outputs": [
        {
          "output_type": "display_data",
          "data": {
            "text/plain": [
              "<Figure size 640x480 with 1 Axes>"
            ],
            "image/png": "[encoded data removed]"
          },
          "metadata": {}
        }
      ],
      "source": [
        "plt.plot(df['Date'],df['FEDRATE'])\n",
        "plt.xlabel('Date')\n",
        "plt.ylabel('FED RATE')\n",
        "plt.title('FED RATE changes after years')\n",
        "plt.show()"
      ]
    },
    {
      "cell_type": "code",
      "execution_count": 31,
      "id": "d30b8248-2f93-4203-a625-a542fdbd5033",
      "metadata": {
        "colab": {
          "base_uri": "https://localhost:8080/",
          "height": 472
        },
        "id": "d30b8248-2f93-4203-a625-a542fdbd5033",
        "outputId": "ed4cb392-06a3-4f66-ab39-86b515e0e47d"
      },
      "outputs": [
        {
          "output_type": "display_data",
          "data": {
            "text/plain": [
              "<Figure size 640x480 with 1 Axes>"
            ],
            "image/png": "[encoded data removed]"
          },
          "metadata": {}
        }
      ],
      "source": [
        "plt.plot(df['Date'],df['DXY'])\n",
        "plt.xlabel('Date')\n",
        "plt.ylabel('DXY')\n",
        "plt.title('DXY changes after years')\n",
        "plt.show()"
      ]
    },
    {
      "cell_type": "code",
      "execution_count": 32,
      "id": "bb9e4491-65b1-4db7-9b67-58de5761c930",
      "metadata": {
        "colab": {
          "base_uri": "https://localhost:8080/",
          "height": 490
        },
        "id": "bb9e4491-65b1-4db7-9b67-58de5761c930",
        "outputId": "99756be0-ff1b-44c7-d3f0-8b40c26ee0ca"
      },
      "outputs": [
        {
          "output_type": "display_data",
          "data": {
            "text/plain": [
              "<Figure size 640x480 with 1 Axes>"
            ],
            "image/png": "[encoded data removed]"
          },
          "metadata": {}
        },
        {
          "output_type": "display_data",
          "data": {
            "text/plain": [
              "<Figure size 4000x400 with 0 Axes>"
            ]
          },
          "metadata": {}
        }
      ],
      "source": [
        "plt.plot(df['Date'],df['OMOrate'])\n",
        "plt.xlabel('Date')\n",
        "plt.ylabel('OMO rate')\n",
        "plt.title('OMO rate changes after years')\n",
        "plt.figure(figsize=(40,4))\n",
        "plt.show()"
      ]
    },
    {
      "cell_type": "code",
      "execution_count": 33,
      "id": "ece5f29a-0d50-4ff5-be25-a4a2bfe5e8e8",
      "metadata": {
        "colab": {
          "base_uri": "https://localhost:8080/",
          "height": 490
        },
        "id": "ece5f29a-0d50-4ff5-be25-a4a2bfe5e8e8",
        "outputId": "68c545a5-4b71-43d3-ce1d-b89f30126bd8"
      },
      "outputs": [
        {
          "output_type": "display_data",
          "data": {
            "text/plain": [
              "<Figure size 640x480 with 1 Axes>"
            ],
            "image/png": "[encoded data removed]"
          },
          "metadata": {}
        },
        {
          "output_type": "display_data",
          "data": {
            "text/plain": [
              "<Figure size 4000x400 with 0 Axes>"
            ]
          },
          "metadata": {}
        }
      ],
      "source": [
        "plt.plot(df['Date'],df['SBVcentralrate'])\n",
        "plt.xlabel('Date')\n",
        "plt.ylabel('SBV central rate')\n",
        "plt.title('SBV central rate change after years')\n",
        "plt.figure(figsize=(40,4))\n",
        "plt.show()"
      ]
    },
    {
      "cell_type": "code",
      "source": [
        "name=input(\"Mời nhập tên chỉ số muốn xem dữ liệu lịch sử:(FEDRATE,DXY,VND,OMOrate,SBVcentralrate)\")\n",
        "n=int(input(\"Mời nhập số ngày muốn xem:\"))\n",
        "file_path = \"/content/Data system POC_11Nov2024(mod).xlsx\"\n",
        "df = pd.read_excel(file_path, sheet_name=None)  # Đọc tất cả sheet\n",
        "df_ref = df[\"Data- refinitiv\"]\n",
        "if name== 'FEDRATE' :\n",
        "    print(df_ref['Date'].iloc[:n],df_ref['FEDRATE'].iloc[:n], sep='\\n') # Print each value on a new line\n",
        "elif name=='DXY' :\n",
        "   print(df_ref['Date'].iloc[:n],df_ref['DXY'].iloc[:n], sep='\\n') # Change here: Use df_ref to access the column\n",
        "elif name=='VND' :\n",
        "   print(df_ref['Date'].iloc[:n],df_ref['VND'].iloc[:n], sep='\\n') # Change here: Use df_ref to access the column\n",
        "elif name=='OMOrate' :\n",
        "   print(df_ref['Date'].iloc[:n],df_ref['OMOrate'].iloc[:n], sep='\\n') # Change here: Use df_ref to access the column\n",
        "elif name=='SBVcentralrate' :\n",
        "   print(df_ref['Date'].iloc[:n],df_ref['SBVcentralrate'].iloc[:n], sep='\\n') # Change here: Use df_ref to access the column\n"
      ],
      "metadata": {
        "colab": {
          "base_uri": "https://localhost:8080/"
        },
        "id": "Nk5ttbeywxIT",
        "outputId": "53aabf8c-8e87-4f24-8e35-1b34b94a6e81"
      },
      "id": "Nk5ttbeywxIT",
      "execution_count": 34,
      "outputs": [
        {
          "output_type": "stream",
          "name": "stdout",
          "text": [
            "Mời nhập tên chỉ số muốn xem dữ liệu lịch sử:(FEDRATE,DXY,VND,OMOrate,SBVcentralrate)FEDRATE\n",
            "Mời nhập số ngày muốn xem:7\n",
            "0   2024-10-01\n",
            "1   2024-09-30\n",
            "2   2024-09-27\n",
            "3   2024-09-26\n",
            "4   2024-09-25\n",
            "5   2024-09-24\n",
            "6   2024-09-23\n",
            "Name: Date, dtype: datetime64[ns]\n",
            "0    5.0\n",
            "1    5.0\n",
            "2    5.0\n",
            "3    5.0\n",
            "4    5.0\n",
            "5    5.0\n",
            "6    5.0\n",
            "Name: FEDRATE, dtype: float64\n"
          ]
        }
      ]
    },
    {
      "cell_type": "code",
      "execution_count": 37,
      "id": "fc708544-6fa8-4cf9-8678-7fadef601a0d",
      "metadata": {
        "colab": {
          "base_uri": "https://localhost:8080/",
          "height": 751
        },
        "id": "fc708544-6fa8-4cf9-8678-7fadef601a0d",
        "outputId": "e193e737-c377-4c31-b987-90ed06394cff"
      },
      "outputs": [
        {
          "output_type": "stream",
          "name": "stdout",
          "text": [
            "Nhập số ngày cần dự báo: 7\n",
            "\n",
            "📊 **Dự báo giá trị VND:** [np.float64(24.590199187809997), np.float64(24.591073802211124), np.float64(24.590935190980627), np.float64(24.59095810682665), np.float64(24.590954368156222), np.float64(24.59095498062734), np.float64(24.590954880420487)]\n",
            "\n",
            "📈 **Xu hướng biến động:** ['Down', 'Up', 'Down', 'Up', 'Down', 'Up', 'Down']\n",
            "\n",
            "📉 **Tỷ lệ thay đổi (%):** [np.float64(-0.019519464078072108), np.float64(0.0035567601321443315), np.float64(-0.0005636648143628979), np.float64(9.318818437097662e-05), np.float64(-1.520343539687111e-05), np.float64(2.4906358248045325e-06), np.float64(-4.074947656517886e-07)]\n",
            "\n",
            "**Giá trị thực tế:** [24.667, 24.756, 24.768, 24.854, 24.845, 24.835, 24.844]\n"
          ]
        },
        {
          "output_type": "display_data",
          "data": {
            "text/plain": [
              "<Figure size 1400x600 with 1 Axes>"
            ],
            "image/png": "[encoded data removed]"
          },
          "metadata": {}
        }
      ],
      "source": [
        "import pandas as pd\n",
        "import numpy as np\n",
        "from statsmodels.tsa.statespace.sarimax import SARIMAX\n",
        "import matplotlib.pyplot as plt\n",
        "\n",
        "def train_sarima(df_ref, n):\n",
        "\n",
        "    # Đảm bảo dữ liệu sắp xếp theo ngày\n",
        "    train_values = df_ref[\"VND\"].dropna().astype(float).sort_index()\n",
        "    history = list(train_values)\n",
        "\n",
        "    predictions = []\n",
        "    labels = []\n",
        "    percent_changes = []\n",
        "\n",
        "    for _ in range(n):\n",
        "        model = SARIMAX(history, order=(2,1,0))\n",
        "        model_fit = model.fit(disp=False)\n",
        "\n",
        "        forecast = model_fit.forecast(steps=1)[0]\n",
        "        prev_value = history[-1]\n",
        "\n",
        "        trend = \"Up\" if forecast > prev_value else \"Down\"\n",
        "        labels.append(trend)\n",
        "\n",
        "        percent_change = ((forecast - prev_value) / prev_value * 100) if prev_value != 0 else 0\n",
        "        percent_changes.append(percent_change)\n",
        "\n",
        "        history.append(forecast)\n",
        "        predictions.append(forecast)\n",
        "\n",
        "    return predictions, labels, percent_changes\n",
        "\n",
        "# Đọc dữ liệu từ file Excel (chỉ đọc 1 lần)\n",
        "file_path = \"/content/Data system POC_11Nov2024(mod) (2).xlsx\"\n",
        "df = pd.read_excel(file_path, sheet_name=None)  # Đọc tất cả sheet\n",
        "df_ref = df[\"Data- refinitiv\"]\n",
        "df1 = df[\"Sheet2\"]\n",
        "df_ref[\"Date\"] = pd.to_datetime(df_ref[\"Date\"])\n",
        "df_ref.set_index(\"Date\", inplace=True)\n",
        "\n",
        "df1[\"Date\"] = pd.to_datetime(df1[\"Date\"])\n",
        "df1.set_index(\"Date\", inplace=True)\n",
        "\n",
        "# Người dùng nhập số ngày cần dự báo\n",
        "n = int(input(\"Nhập số ngày cần dự báo: \"))\n",
        "\n",
        "# Chạy mô hình SARIMA\n",
        "predictions, labels, percent_changes = train_sarima(df_ref, n)\n",
        "\n",
        "# Xuất kết quả\n",
        "print(\"\\n📊 **Dự báo giá trị VND:**\", predictions)\n",
        "print(\"\\n📈 **Xu hướng biến động:**\", labels)\n",
        "print(\"\\n📉 **Tỷ lệ thay đổi (%):**\", percent_changes)\n",
        "\n",
        "# Lấy giá trị thực tế để so sánh\n",
        "df1[\"VND\"] = df1[\"VND\"].apply(lambda x: float(str(x).replace(\"\\xa0\", \"\")))\n",
        "Y_TRUE = df1[\"VND\"].iloc[:n].tolist()\n",
        "print(\"\\n**Giá trị thực tế:**\", Y_TRUE)\n",
        "# Xác định ngày bắt đầu dự báo\n",
        "last_date = df_ref.index[0]  # Ngày cuối của tập dữ liệu huấn luyện\n",
        "forecast_dates = pd.date_range(start=last_date, periods=n+1, freq='D')[1:]\n",
        "\n",
        "# **VẼ BIỂU ĐỒ GIÁ LỊCH SỬ + DỰ BÁO + GIÁ THẬT**\n",
        "plt.figure(figsize=(14, 6))\n",
        "\n",
        "#  **Vẽ đường giá dự báo**\n",
        "plt.plot(forecast_dates, predictions, color='black', linestyle='-', marker='o', label=\"Dự báo\")\n",
        "\n",
        "# **Vẽ đường giá thật**\n",
        "plt.plot(forecast_dates, Y_TRUE, color='red', linestyle='--', marker='x', label=\"Giá thật\")\n",
        "\n",
        "plt.xlabel(\"Ngày\")\n",
        "plt.ylabel(\"Giá VND\")\n",
        "plt.title(\"Biểu đồ giá VND - Lịch sử vs Dự báo vs Thực tế\")\n",
        "plt.legend()\n",
        "plt.grid(True)\n",
        "plt.show()"
      ]
    },
    {
      "cell_type": "code",
      "execution_count": 38,
      "id": "c9011052-15f7-41a0-928f-4d1b7a3177f8",
      "metadata": {
        "colab": {
          "base_uri": "https://localhost:8080/"
        },
        "id": "c9011052-15f7-41a0-928f-4d1b7a3177f8",
        "outputId": "0c3da045-bd1a-431a-ede4-9ced12ef6788"
      },
      "outputs": [
        {
          "output_type": "stream",
          "name": "stdout",
          "text": [
            "Hệ số tương quan: 0.7604305424569613\n",
            "MSE: 0.045967283815706104\n"
          ]
        }
      ],
      "source": [
        "Y_TRUE = np.array(df1[\"VND\"].iloc[:n])\n",
        "y_pred = np.array(predictions)\n",
        "\n",
        "# Tính toán MSE\n",
        "from sklearn.metrics import mean_squared_error\n",
        "import numpy as np\n",
        "\n",
        "# Import the function to calculate correlation\n",
        "from scipy.stats import pearsonr\n",
        "\n",
        "# Calculate the Pearson correlation coefficient\n",
        "corr, _ = pearsonr(Y_TRUE, y_pred) # pearsonr returns the correlation and the p-value, we only need the correlation\n",
        "print(\"Hệ số tương quan:\", corr)\n",
        "\n",
        "mse = mean_squared_error(Y_TRUE, y_pred)\n",
        "print(\"MSE:\", mse)\n"
      ]
    },
    {
      "cell_type": "code",
      "source": [
        "!pip install smtplib\n",
        "!pip install pandas\n",
        "!pip install numpy\n",
        "!pip install matplotlib\n",
        "!pip install os"
      ],
      "metadata": {
        "colab": {
          "base_uri": "https://localhost:8080/"
        },
        "collapsed": true,
        "id": "lYgVI97PqX9d",
        "outputId": "84f39f7c-e286-4fa0-ba6d-7dd926211f81"
      },
      "id": "lYgVI97PqX9d",
      "execution_count": 45,
      "outputs": [
        {
          "output_type": "stream",
          "name": "stdout",
          "text": [
            "\u001b[31mERROR: Could not find a version that satisfies the requirement smtplib (from versions: none)\u001b[0m\u001b[31m\n",
            "\u001b[0m\u001b[31mERROR: No matching distribution found for smtplib\u001b[0m\u001b[31m\n",
            "\u001b[0mRequirement already satisfied: pandas in /usr/local/lib/python3.11/dist-packages (2.2.2)\n",
            "Requirement already satisfied: numpy>=1.23.2 in /usr/local/lib/python3.11/dist-packages (from pandas) (2.0.2)\n",
            "Requirement already satisfied: python-dateutil>=2.8.2 in /usr/local/lib/python3.11/dist-packages (from pandas) (2.8.2)\n",
            "Requirement already satisfied: pytz>=2020.1 in /usr/local/lib/python3.11/dist-packages (from pandas) (2025.2)\n",
            "Requirement already satisfied: tzdata>=2022.7 in /usr/local/lib/python3.11/dist-packages (from pandas) (2025.2)\n",
            "Requirement already satisfied: six>=1.5 in /usr/local/lib/python3.11/dist-packages (from python-dateutil>=2.8.2->pandas) (1.17.0)\n",
            "Requirement already satisfied: numpy in /usr/local/lib/python3.11/dist-packages (2.0.2)\n",
            "Requirement already satisfied: matplotlib in /usr/local/lib/python3.11/dist-packages (3.10.0)\n",
            "Requirement already satisfied: contourpy>=1.0.1 in /usr/local/lib/python3.11/dist-packages (from matplotlib) (1.3.1)\n",
            "Requirement already satisfied: cycler>=0.10 in /usr/local/lib/python3.11/dist-packages (from matplotlib) (0.12.1)\n",
            "Requirement already satisfied: fonttools>=4.22.0 in /usr/local/lib/python3.11/dist-packages (from matplotlib) (4.56.0)\n",
            "Requirement already satisfied: kiwisolver>=1.3.1 in /usr/local/lib/python3.11/dist-packages (from matplotlib) (1.4.8)\n",
            "Requirement already satisfied: numpy>=1.23 in /usr/local/lib/python3.11/dist-packages (from matplotlib) (2.0.2)\n",
            "Requirement already satisfied: packaging>=20.0 in /usr/local/lib/python3.11/dist-packages (from matplotlib) (24.2)\n",
            "Requirement already satisfied: pillow>=8 in /usr/local/lib/python3.11/dist-packages (from matplotlib) (11.1.0)\n",
            "Requirement already satisfied: pyparsing>=2.3.1 in /usr/local/lib/python3.11/dist-packages (from matplotlib) (3.2.3)\n",
            "Requirement already satisfied: python-dateutil>=2.7 in /usr/local/lib/python3.11/dist-packages (from matplotlib) (2.8.2)\n",
            "Requirement already satisfied: six>=1.5 in /usr/local/lib/python3.11/dist-packages (from python-dateutil>=2.7->matplotlib) (1.17.0)\n",
            "\u001b[31mERROR: Could not find a version that satisfies the requirement os (from versions: none)\u001b[0m\u001b[31m\n",
            "\u001b[0m\u001b[31mERROR: No matching distribution found for os\u001b[0m\u001b[31m\n",
            "\u001b[0m"
          ]
        }
      ]
    },
    {
      "cell_type": "code",
      "source": [
        "import smtplib\n",
        "import pandas as pd\n",
        "import numpy as np\n",
        "import os  # Dùng để lấy biến môi trường\n",
        "from email.mime.multipart import MIMEMultipart\n",
        "from email.mime.text import MIMEText\n",
        "from datetime import datetime, timedelta\n",
        "\n",
        "# 🔹 Nhập email người nhận\n",
        "EMAIL_RECEIVER = input('Mời bạn nhập vào email người nhận: ')\n",
        "\n",
        "# 🔹 Lấy mật khẩu từ biến môi trường (Không lưu trực tiếp trong code)\n",
        "EMAIL_SENDER = \"namltmta@gmail.com\"\n",
        "EMAIL_PASSWORD = \"jlxk sqlk gckc eqzz\"\n",
        "\n",
        "# 🔹 Giả lập dự báo tỷ giá (dữ liệu mẫu)\n",
        "forecast_dates = forecast_dates\n",
        "predictions = predictions\n",
        "\n",
        "# 🔹 Tạo nội dung email\n",
        "email_content = \"<h2>Dự báo tỷ giá VND-USD tuần tới</h2><table border='1' cellpadding='5'>\"\n",
        "email_content += \"<tr><th>Ngày</th><th>Dự đoán giá</th></tr>\"\n",
        "\n",
        "for date, price in zip(forecast_dates, predictions):\n",
        "    email_content += f\"<tr><td>{date.strftime('%Y-%m-%d')}</td><td>{price:.2f} USD</td></tr>\"\n",
        "\n",
        "email_content += \"</table>\"\n",
        "\n",
        "# 🔹 Thiết lập email\n",
        "msg = MIMEMultipart()\n",
        "msg['From'] = EMAIL_SENDER\n",
        "msg['To'] = EMAIL_RECEIVER\n",
        "msg['Subject'] = \"Báo cáo dự báo tỷ giá VND-USD tuần tới\"\n",
        "msg.attach(MIMEText(email_content, 'html'))\n",
        "\n",
        "# 🔹 Gửi email qua SMTP (Gmail SMTP Server)\n",
        "try:\n",
        "    server = smtplib.SMTP(\"smtp.gmail.com\", 587)\n",
        "    server.starttls()\n",
        "    server.login(EMAIL_SENDER, EMAIL_PASSWORD)\n",
        "    server.sendmail(EMAIL_SENDER, EMAIL_RECEIVER, msg.as_string())\n",
        "    server.quit()\n",
        "    print(\"✅ Email đã được gửi thành công!\")\n",
        "except Exception as e:\n",
        "    print(\"❌ Lỗi khi gửi email:\", str(e))\n"
      ],
      "metadata": {
        "id": "E6rAh2ezulCh",
        "colab": {
          "base_uri": "https://localhost:8080/"
        },
        "outputId": "2ba3ff79-38d3-4327-ccc2-b6c8ab897184"
      },
      "id": "E6rAh2ezulCh",
      "execution_count": 51,
      "outputs": [
        {
          "output_type": "stream",
          "name": "stdout",
          "text": [
            "Mời bạn nhập vào email người nhận: longtaiew01@gmail.com\n",
            "✅ Email đã được gửi thành công!\n"
          ]
        }
      ]
    },
    {
      "cell_type": "code",
      "source": [],
      "metadata": {
        "id": "VdVqHuM9xSpJ"
      },
      "id": "VdVqHuM9xSpJ",
      "execution_count": null,
      "outputs": []
    }
  ],
  "metadata": {
    "kernelspec": {
      "display_name": "Python 3 (ipykernel)",
      "language": "python",
      "name": "python3"
    },
    "language_info": {
      "codemirror_mode": {
        "name": "ipython",
        "version": 3
      },
      "file_extension": ".py",
      "mimetype": "text/x-python",
      "name": "python",
      "nbconvert_exporter": "python",
      "pygments_lexer": "ipython3",
      "version": "3.8.20"
    },
    "colab": {
      "provenance": [],
      "include_colab_link": true
    }
  },
  "nbformat": 4,
  "nbformat_minor": 5
}